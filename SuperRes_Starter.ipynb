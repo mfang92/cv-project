{
  "cells": [
    {
      "cell_type": "code",
      "execution_count": 28,
      "metadata": {
        "id": "raN8W9BU7TBF"
      },
      "outputs": [],
      "source": [
        "import torch\n",
        "import matplotlib.pyplot as plt\n",
        "import numpy as np\n",
        "import cv2\n",
        "import scipy.ndimage as ndimage\n",
        "from tqdm import tqdm\n",
        "import torch.nn as nn\n",
        "import torch.nn.functional as F\n",
        "import torch.optim as optim"
      ]
    },
    {
      "cell_type": "code",
      "execution_count": 9,
      "metadata": {
        "colab": {
          "base_uri": "https://localhost:8080/"
        },
        "id": "ms3uvGKARU_p",
        "outputId": "f581b1f5-2eba-4698-98f6-452b29a25dd8"
      },
      "outputs": [
        {
          "name": "stdout",
          "output_type": "stream",
          "text": [
            "Processed 101 frames\n"
          ]
        }
      ],
      "source": [
        "capture = cv2.VideoCapture('data/video.mov')\n",
        "\n",
        "n = 0\n",
        "frames = []\n",
        "while True:\n",
        "    successful, next_frame = capture.read()\n",
        "    if not successful:\n",
        "        # No more frames to read\n",
        "        print(\"Processed %d frames\" % n)\n",
        "        break\n",
        "    frames.append(next_frame)\n",
        "    n += 1\n",
        "# Now we have an image! We can process that as we would.\n",
        "\n",
        "# We have to give up the file at the end.\n",
        "capture.release()"
      ]
    },
    {
      "cell_type": "code",
      "execution_count": 11,
      "metadata": {
        "colab": {
          "base_uri": "https://localhost:8080/"
        },
        "id": "D2SsAvriXoyS",
        "outputId": "a7dd99ad-08d4-4a79-e868-11282e8cdee7"
      },
      "outputs": [
        {
          "name": "stdout",
          "output_type": "stream",
          "text": [
            "(1920, 1440, 3)\n",
            "<class 'numpy.ndarray'>\n"
          ]
        }
      ],
      "source": [
        "height, width, channels = frames[0].shape\n",
        "height, width, channels\n",
        "\n",
        "print(frames[0].shape)\n",
        "\n",
        "print(type(frames[0]))\n"
      ]
    },
    {
      "cell_type": "code",
      "execution_count": 13,
      "metadata": {
        "id": "cHzO9g-88GAH"
      },
      "outputs": [
        {
          "name": "stderr",
          "output_type": "stream",
          "text": [
            "OpenCV: FFMPEG: tag 0x5634504d/'MP4V' is not supported with codec id 12 and format 'mp4 / MP4 (MPEG-4 Part 14)'\n",
            "OpenCV: FFMPEG: fallback to use tag 0x7634706d/'mp4v'\n"
          ]
        }
      ],
      "source": [
        "def downsize_frame(frame, factor = 2, sigma = 9):\n",
        "  frame_blurred = cv2.GaussianBlur(frame, (sigma, sigma), 0)\n",
        "  return frame_blurred[::factor, ::factor]\n",
        "\n",
        "factor = 4\n",
        "downsized_size = (width // factor, height // factor) # w,h\n",
        "output_path = 'data/output_downsized.mp4'\n",
        "output_format = cv2.VideoWriter_fourcc('M','P','4','V')\n",
        "output_fps = 30\n",
        "downsized_output = cv2.VideoWriter(output_path, output_format, output_fps, downsized_size)\n",
        "downsized_frames = []\n",
        "\n",
        "for frame in frames:\n",
        "  output_frame = downsize_frame(frame, factor=factor)\n",
        "  downsized_frames.append(output_frame)\n",
        "  downsized_output.write(output_frame)\n",
        "\n",
        "downsized_output.release()"
      ]
    },
    {
      "cell_type": "code",
      "execution_count": 14,
      "metadata": {
        "id": "E7-6UOK6DCPm"
      },
      "outputs": [
        {
          "name": "stdout",
          "output_type": "stream",
          "text": [
            "Using cpu device\n",
            "torch.Size([10, 480, 360, 3])\n",
            "hi\n"
          ]
        }
      ],
      "source": [
        "# first model\n",
        "# a bunch of 3x3 convolutions\n",
        "# https://pytorch.org/tutorials/beginner/blitz/cifar10_tutorial.html\n",
        "\n",
        "device = (\n",
        "    \"cuda\"\n",
        "    if torch.cuda.is_available()\n",
        "    else \"cpu\"\n",
        ")\n",
        "print(f\"Using {device} device\")\n",
        "\n",
        "# test = cv2.resize(frames[0], (10, 10))\n",
        "# test_r = torch.tensor(test[:, :, 0]) # red component\n",
        "test = torch.from_numpy(np.array(downsized_frames[:10])).float().to(device)\n",
        "\n",
        "print(test.shape)\n",
        "\n",
        "print(\"hi\")"
      ]
    },
    {
      "cell_type": "code",
      "execution_count": 16,
      "metadata": {},
      "outputs": [
        {
          "name": "stdout",
          "output_type": "stream",
          "text": [
            "torch.Size([10, 480, 360, 3])\n"
          ]
        }
      ],
      "source": [
        "print(test.size())"
      ]
    },
    {
      "cell_type": "code",
      "execution_count": 17,
      "metadata": {},
      "outputs": [],
      "source": [
        "shaped_test = torch.einsum('ijkl -> lijk', test)\n",
        "# in_channels, batch size, w, h print(shaped_test.shape)"
      ]
    },
    {
      "cell_type": "code",
      "execution_count": 18,
      "metadata": {},
      "outputs": [
        {
          "name": "stdout",
          "output_type": "stream",
          "text": [
            "torch.Size([3, 10, 480, 360])\n"
          ]
        }
      ],
      "source": [
        "# class Net(nn.Module):\n",
        "#     def __init__(self):\n",
        "#         super().__init__()\n",
        "#         self.conv1 = nn.Conv3d(3, 3, (3, 3, 3), bias=True, padding=1)\n",
        "        \n",
        "#         # self.conv2 = nn.Conv2d(3, 3, 3)\n",
        "#         # add more later?\n",
        "\n",
        "#     def forward(self, x):\n",
        "#         identity = x.clone()\n",
        "#         upsampled = nn.Upsample(scale_factor = 2, mode = 'bicubic')(identity)\n",
        "#         out = F.relu(self.conv1(x))\n",
        "#         out += upsampled\n",
        "#         # out = F.relu(self.conv2(out))\n",
        "        # rneturn out\n",
        "net = nn.Sequential(\n",
        "    nn.Conv3d(3, 16, (1, 3, 3), padding=(0, 1, 1), device=device),\n",
        "    nn.ReLU(),\n",
        "    nn.Conv3d(16, 32, (3, 1, 1), padding=(1, 0, 0), device=device),\n",
        "    nn.ReLU(),\n",
        "    nn.Conv3d(32, 32, (1, 3, 3), padding=(0, 1, 1), device=device),\n",
        "    nn.ReLU(),\n",
        "    nn.Conv3d(32, 32, (3, 1, 1), padding=(1, 0, 0), device=device),\n",
        "    nn.ReLU(),\n",
        "    nn.Upsample(scale_factor = 4, mode = 'bicubic'),\n",
        "    nn.Conv3d(32, 32, (1, 3, 3), padding=(0, 1, 1), device=device),\n",
        "    nn.ReLU(),\n",
        "    nn.Conv3d(32, 32, (3, 1, 1), padding=(1, 0, 0), device=device),\n",
        "    nn.ReLU(),\n",
        "    nn.Conv3d(32, 16, (1, 3, 3), padding=(0, 1, 1), device=device),\n",
        "    nn.ReLU(),\n",
        "    nn.Conv3d(16, 3, (3, 1, 1), padding=(1, 0, 0), device=device)\n",
        ")\n",
        "torch.manual_seed(0)\n",
        "print(shaped_test.size())\n",
        "\n",
        "# a = test.reshape(test, (1, ...))\n",
        "# print(test_res)\n"
      ]
    },
    {
      "cell_type": "code",
      "execution_count": 19,
      "metadata": {},
      "outputs": [
        {
          "name": "stdout",
          "output_type": "stream",
          "text": [
            "torch.Size([3, 10, 480, 360])\n"
          ]
        }
      ],
      "source": [
        "print(shaped_test.size())\n",
        "\n"
      ]
    },
    {
      "cell_type": "code",
      "execution_count": 20,
      "metadata": {},
      "outputs": [
        {
          "name": "stdout",
          "output_type": "stream",
          "text": [
            "torch.Size([3, 10, 480, 360])\n",
            "tensor([[[ 61.,  63.,  63.,  ...,  12.,  13.,  13.],\n",
            "         [ 63.,  64.,  64.,  ...,  13.,  13.,  12.],\n",
            "         [ 63.,  64.,  64.,  ...,  13.,  13.,  13.],\n",
            "         ...,\n",
            "         [ 35.,  35.,  34.,  ...,  67., 112., 119.],\n",
            "         [ 35.,  35.,  34.,  ...,  44.,  79., 116.],\n",
            "         [ 35.,  35.,  33.,  ...,  38.,  50.,  90.]],\n",
            "\n",
            "        [[ 64.,  60.,  58.,  ...,  12.,  13.,  12.],\n",
            "         [ 65.,  63.,  59.,  ...,  13.,  13.,  12.],\n",
            "         [ 65.,  64.,  61.,  ...,  13.,  13.,  13.],\n",
            "         ...,\n",
            "         [ 34.,  34.,  34.,  ...,  78., 116., 119.],\n",
            "         [ 34.,  34.,  34.,  ...,  47.,  90., 119.],\n",
            "         [ 34.,  34.,  33.,  ...,  40.,  56., 101.]],\n",
            "\n",
            "        [[ 62.,  63.,  62.,  ...,  12.,  12.,  11.],\n",
            "         [ 63.,  63.,  63.,  ...,  12.,  12.,  12.],\n",
            "         [ 64.,  64.,  63.,  ...,  12.,  13.,  12.],\n",
            "         ...,\n",
            "         [ 33.,  33.,  33.,  ...,  90., 119., 118.],\n",
            "         [ 33.,  33.,  33.,  ...,  52., 100., 119.],\n",
            "         [ 33.,  33.,  33.,  ...,  41.,  64., 108.]],\n",
            "\n",
            "        ...,\n",
            "\n",
            "        [[ 63.,  62.,  61.,  ...,  12.,  13.,  13.],\n",
            "         [ 64.,  63.,  61.,  ...,  12.,  12.,  12.],\n",
            "         [ 64.,  63.,  63.,  ...,  12.,  12.,  12.],\n",
            "         ...,\n",
            "         [ 34.,  34.,  34.,  ..., 115., 110.,  98.],\n",
            "         [ 34.,  34.,  34.,  ...,  93., 117., 119.],\n",
            "         [ 34.,  33.,  33.,  ...,  56., 106., 119.]],\n",
            "\n",
            "        [[ 64.,  63.,  59.,  ...,  11.,  11.,  12.],\n",
            "         [ 64.,  63.,  61.,  ...,  11.,  12.,  12.],\n",
            "         [ 63.,  63.,  63.,  ...,  13.,  12.,  11.],\n",
            "         ...,\n",
            "         [ 34.,  34.,  34.,  ..., 115., 103.,  87.],\n",
            "         [ 34.,  34.,  34.,  ..., 101., 114., 117.],\n",
            "         [ 34.,  33.,  33.,  ...,  65., 110., 116.]],\n",
            "\n",
            "        [[ 63.,  63.,  59.,  ...,  11.,  12.,  12.],\n",
            "         [ 63.,  63.,  62.,  ...,  11.,  11.,  12.],\n",
            "         [ 64.,  64.,  64.,  ...,  12.,  12.,  12.],\n",
            "         ...,\n",
            "         [ 34.,  33.,  34.,  ..., 112.,  91.,  65.],\n",
            "         [ 34.,  34.,  33.,  ..., 107., 116., 118.],\n",
            "         [ 34.,  33.,  32.,  ...,  74., 113., 116.]]])\n",
            "tensor([[[[-0.0986, -0.0895, -0.0828,  ..., -0.0882, -0.0860, -0.0907],\n",
            "          [-0.0975, -0.0751, -0.0761,  ..., -0.0795, -0.0810, -0.0843],\n",
            "          [-0.0969, -0.0728, -0.0769,  ..., -0.0786, -0.0738, -0.0823],\n",
            "          ...,\n",
            "          [-0.0952, -0.0776, -0.0840,  ..., -0.0227, -0.0060, -0.0256],\n",
            "          [-0.0953, -0.0810, -0.0853,  ..., -0.0426, -0.0311, -0.0370],\n",
            "          [-0.0961, -0.0856, -0.0866,  ..., -0.0103, -0.0245, -0.0160]],\n",
            "\n",
            "         [[-0.1149, -0.1050, -0.0951,  ..., -0.1009, -0.0916, -0.1037],\n",
            "          [-0.1131, -0.0978, -0.0890,  ..., -0.0907, -0.0935, -0.1015],\n",
            "          [-0.1108, -0.0982, -0.0930,  ..., -0.0884, -0.0880, -0.1056],\n",
            "          ...,\n",
            "          [-0.1017, -0.0875, -0.0923,  ..., -0.0184, -0.0045, -0.0670],\n",
            "          [-0.1003, -0.0905, -0.0952,  ..., -0.0416, -0.0328, -0.0645],\n",
            "          [-0.1065, -0.1012, -0.1037,  ..., -0.0228, -0.0261, -0.0384]],\n",
            "\n",
            "         [[-0.1171, -0.1042, -0.1012,  ..., -0.1003, -0.0982, -0.1092],\n",
            "          [-0.1162, -0.0880, -0.0952,  ..., -0.0921, -0.0971, -0.1011],\n",
            "          [-0.1117, -0.0878, -0.1008,  ..., -0.0904, -0.0869, -0.0983],\n",
            "          ...,\n",
            "          [-0.1041, -0.0834, -0.0983,  ..., -0.0176,  0.0089, -0.0556],\n",
            "          [-0.0989, -0.0835, -0.0958,  ..., -0.0506, -0.0206, -0.0439],\n",
            "          [-0.1012, -0.0886, -0.0944,  ..., -0.0106, -0.0137, -0.0205]],\n",
            "\n",
            "         ...,\n",
            "\n",
            "         [[-0.1208, -0.1115, -0.1048,  ..., -0.1133, -0.1081, -0.1199],\n",
            "          [-0.1138, -0.0936, -0.0973,  ..., -0.1024, -0.0968, -0.1165],\n",
            "          [-0.1156, -0.0965, -0.1002,  ..., -0.1016, -0.0922, -0.1086],\n",
            "          ...,\n",
            "          [-0.1042, -0.0890, -0.1032,  ..., -0.0703, -0.0440, -0.0870],\n",
            "          [-0.0978, -0.0877, -0.0964,  ..., -0.0842, -0.0490, -0.0668],\n",
            "          [-0.0990, -0.0916, -0.0990,  ..., -0.0490, -0.0504, -0.0499]],\n",
            "\n",
            "         [[-0.1138, -0.1086, -0.1037,  ..., -0.0992, -0.0981, -0.1070],\n",
            "          [-0.1219, -0.0986, -0.1108,  ..., -0.0839, -0.0810, -0.1078],\n",
            "          [-0.1187, -0.1001, -0.1067,  ..., -0.0886, -0.0859, -0.1060],\n",
            "          ...,\n",
            "          [-0.0996, -0.0886, -0.1003,  ..., -0.0794, -0.0711, -0.1512],\n",
            "          [-0.0974, -0.0890, -0.0943,  ..., -0.0708, -0.0712, -0.1212],\n",
            "          [-0.1003, -0.0947, -0.1003,  ..., -0.0945, -0.0897, -0.1255]],\n",
            "\n",
            "         [[-0.1164, -0.1172, -0.1123,  ..., -0.1132, -0.1143, -0.1114],\n",
            "          [-0.1144, -0.1013, -0.1070,  ..., -0.1019, -0.1069, -0.1088],\n",
            "          [-0.1140, -0.1029, -0.1096,  ..., -0.0983, -0.1040, -0.1058],\n",
            "          ...,\n",
            "          [-0.1149, -0.1107, -0.1159,  ..., -0.0398, -0.0257, -0.0899],\n",
            "          [-0.1142, -0.1064, -0.1107,  ..., -0.0533, -0.0409, -0.0908],\n",
            "          [-0.1148, -0.1139, -0.1177,  ..., -0.0827, -0.0792, -0.1158]]],\n",
            "\n",
            "\n",
            "        [[[-0.0085, -0.0052,  0.0028,  ...,  0.0163,  0.0098, -0.0025],\n",
            "          [-0.0153, -0.0065, -0.0008,  ...,  0.0149,  0.0061, -0.0002],\n",
            "          [-0.0154, -0.0047,  0.0019,  ...,  0.0148,  0.0085,  0.0023],\n",
            "          ...,\n",
            "          [-0.0056,  0.0030,  0.0031,  ...,  0.0276,  0.0257,  0.0425],\n",
            "          [-0.0063,  0.0003, -0.0005,  ...,  0.0202,  0.0286,  0.0449],\n",
            "          [-0.0010,  0.0026,  0.0008,  ...,  0.0303,  0.0231,  0.0225]],\n",
            "\n",
            "         [[-0.0123, -0.0095, -0.0094,  ..., -0.0051, -0.0082, -0.0289],\n",
            "          [-0.0297, -0.0249, -0.0215,  ..., -0.0119, -0.0079, -0.0260],\n",
            "          [-0.0307, -0.0294, -0.0250,  ..., -0.0110, -0.0085, -0.0302],\n",
            "          ...,\n",
            "          [-0.0207, -0.0245, -0.0255,  ..., -0.0143, -0.0207, -0.0113],\n",
            "          [-0.0202, -0.0204, -0.0218,  ..., -0.0082, -0.0002,  0.0052],\n",
            "          [-0.0214, -0.0237, -0.0238,  ..., -0.0179, -0.0248, -0.0071]],\n",
            "\n",
            "         [[-0.0224, -0.0135, -0.0125,  ..., -0.0101, -0.0140, -0.0248],\n",
            "          [-0.0327, -0.0238, -0.0220,  ..., -0.0133, -0.0118, -0.0145],\n",
            "          [-0.0330, -0.0259, -0.0226,  ..., -0.0138, -0.0095, -0.0172],\n",
            "          ...,\n",
            "          [-0.0206, -0.0216, -0.0209,  ..., -0.0112, -0.0408, -0.0065],\n",
            "          [-0.0213, -0.0195, -0.0188,  ..., -0.0098, -0.0304,  0.0051],\n",
            "          [-0.0182, -0.0202, -0.0200,  ..., -0.0027, -0.0275, -0.0003]],\n",
            "\n",
            "         ...,\n",
            "\n",
            "         [[-0.0243, -0.0127, -0.0101,  ..., -0.0224, -0.0264, -0.0247],\n",
            "          [-0.0301, -0.0216, -0.0209,  ..., -0.0239, -0.0233, -0.0214],\n",
            "          [-0.0308, -0.0261, -0.0214,  ..., -0.0286, -0.0274, -0.0246],\n",
            "          ...,\n",
            "          [-0.0236, -0.0230, -0.0214,  ..., -0.0459, -0.0729, -0.0479],\n",
            "          [-0.0220, -0.0179, -0.0183,  ..., -0.0390, -0.0800, -0.0462],\n",
            "          [-0.0175, -0.0174, -0.0188,  ..., -0.0435, -0.0788, -0.0346]],\n",
            "\n",
            "         [[ 0.0015,  0.0123,  0.0116,  ..., -0.0163, -0.0217, -0.0251],\n",
            "          [-0.0139, -0.0009, -0.0046,  ..., -0.0145, -0.0224, -0.0198],\n",
            "          [-0.0111, -0.0025, -0.0054,  ..., -0.0256, -0.0291, -0.0242],\n",
            "          ...,\n",
            "          [-0.0217, -0.0257, -0.0240,  ..., -0.0323, -0.0555, -0.0785],\n",
            "          [-0.0211, -0.0203, -0.0198,  ..., -0.0204, -0.0398, -0.0828],\n",
            "          [-0.0169, -0.0183, -0.0182,  ..., -0.0396, -0.0569, -0.0720]],\n",
            "\n",
            "         [[-0.0234, -0.0162, -0.0150,  ..., -0.0211, -0.0186, -0.0079],\n",
            "          [-0.0244, -0.0275, -0.0216,  ..., -0.0266, -0.0241, -0.0139],\n",
            "          [-0.0255, -0.0286, -0.0226,  ..., -0.0354, -0.0323, -0.0171],\n",
            "          ...,\n",
            "          [-0.0162, -0.0164, -0.0136,  ..., -0.0458, -0.0508, -0.0349],\n",
            "          [-0.0166, -0.0154, -0.0125,  ..., -0.0258, -0.0333, -0.0495],\n",
            "          [-0.0086, -0.0161, -0.0131,  ..., -0.0415, -0.0357, -0.0638]]],\n",
            "\n",
            "\n",
            "        [[[ 0.0891,  0.0788,  0.0827,  ...,  0.0781,  0.0842,  0.0980],\n",
            "          [ 0.0880,  0.0726,  0.0730,  ...,  0.0681,  0.0611,  0.0744],\n",
            "          [ 0.0906,  0.0779,  0.0707,  ...,  0.0713,  0.0624,  0.0771],\n",
            "          ...,\n",
            "          [ 0.0792,  0.0804,  0.0777,  ...,  0.0591,  0.0802,  0.1069],\n",
            "          [ 0.0798,  0.0781,  0.0773,  ...,  0.0434,  0.0816,  0.0919],\n",
            "          [ 0.0832,  0.0876,  0.0835,  ...,  0.0648,  0.1017,  0.0897]],\n",
            "\n",
            "         [[ 0.0912,  0.0793,  0.0750,  ...,  0.0784,  0.0809,  0.0948],\n",
            "          [ 0.0837,  0.0704,  0.0649,  ...,  0.0674,  0.0693,  0.0717],\n",
            "          [ 0.0842,  0.0761,  0.0572,  ...,  0.0692,  0.0723,  0.0800],\n",
            "          ...,\n",
            "          [ 0.0719,  0.0717,  0.0630,  ...,  0.0424,  0.0804,  0.1240],\n",
            "          [ 0.0761,  0.0749,  0.0684,  ...,  0.0317,  0.0813,  0.0998],\n",
            "          [ 0.0775,  0.0812,  0.0740,  ...,  0.0630,  0.0999,  0.0931]],\n",
            "\n",
            "         [[ 0.0846,  0.0722,  0.0671,  ...,  0.0722,  0.0756,  0.0957],\n",
            "          [ 0.0795,  0.0668,  0.0613,  ...,  0.0666,  0.0671,  0.0766],\n",
            "          [ 0.0803,  0.0673,  0.0546,  ...,  0.0715,  0.0737,  0.0846],\n",
            "          ...,\n",
            "          [ 0.0718,  0.0679,  0.0643,  ...,  0.0302,  0.0304,  0.0993],\n",
            "          [ 0.0723,  0.0652,  0.0650,  ...,  0.0296,  0.0330,  0.0840],\n",
            "          [ 0.0765,  0.0757,  0.0722,  ...,  0.0523,  0.0728,  0.0827]],\n",
            "\n",
            "         ...,\n",
            "\n",
            "         [[ 0.0867,  0.0757,  0.0734,  ...,  0.0800,  0.0782,  0.0890],\n",
            "          [ 0.0775,  0.0609,  0.0567,  ...,  0.0698,  0.0616,  0.0804],\n",
            "          [ 0.0782,  0.0625,  0.0508,  ...,  0.0776,  0.0672,  0.0804],\n",
            "          ...,\n",
            "          [ 0.0681,  0.0706,  0.0647,  ...,  0.0183,  0.0224,  0.0879],\n",
            "          [ 0.0742,  0.0694,  0.0649,  ...,  0.0128,  0.0122,  0.1029],\n",
            "          [ 0.0714,  0.0771,  0.0736,  ...,  0.0626,  0.0518,  0.1054]],\n",
            "\n",
            "         [[ 0.0944,  0.0950,  0.0938,  ...,  0.0942,  0.0942,  0.0945],\n",
            "          [ 0.0773,  0.0801,  0.0662,  ...,  0.0758,  0.0714,  0.0840],\n",
            "          [ 0.0804,  0.0831,  0.0677,  ...,  0.0875,  0.0784,  0.0848],\n",
            "          ...,\n",
            "          [ 0.0661,  0.0659,  0.0623,  ...,  0.0969,  0.0679,  0.0841],\n",
            "          [ 0.0734,  0.0640,  0.0624,  ...,  0.0868,  0.0761,  0.0985],\n",
            "          [ 0.0756,  0.0788,  0.0766,  ...,  0.1005,  0.0852,  0.1172]],\n",
            "\n",
            "         [[ 0.1007,  0.1012,  0.1014,  ...,  0.0905,  0.0928,  0.0920],\n",
            "          [ 0.0951,  0.0882,  0.0822,  ...,  0.0806,  0.0850,  0.0796],\n",
            "          [ 0.0985,  0.0926,  0.0867,  ...,  0.0859,  0.0839,  0.0802],\n",
            "          ...,\n",
            "          [ 0.0821,  0.0859,  0.0854,  ...,  0.1382,  0.1213,  0.0942],\n",
            "          [ 0.0870,  0.0837,  0.0859,  ...,  0.1492,  0.1209,  0.0780],\n",
            "          [ 0.0886,  0.0872,  0.0882,  ...,  0.0988,  0.0734,  0.0658]]]],\n",
            "       grad_fn=<SqueezeBackward1>)\n",
            "torch.Size([3, 10, 1920, 1440])\n"
          ]
        }
      ],
      "source": [
        "print(shaped_test.size())\n",
        "print(shaped_test[0])\n",
        "\n",
        "net_test_result = net(shaped_test)\n",
        "print(net_test_result)\n",
        "print(net_test_result.shape)"
      ]
    },
    {
      "cell_type": "markdown",
      "metadata": {},
      "source": []
    },
    {
      "cell_type": "code",
      "execution_count": 21,
      "metadata": {},
      "outputs": [
        {
          "name": "stdout",
          "output_type": "stream",
          "text": [
            "Sequential(\n",
            "  (0): Conv3d(3, 16, kernel_size=(1, 3, 3), stride=(1, 1, 1), padding=(0, 1, 1))\n",
            "  (1): ReLU()\n",
            "  (2): Conv3d(16, 32, kernel_size=(3, 1, 1), stride=(1, 1, 1), padding=(1, 0, 0))\n",
            "  (3): ReLU()\n",
            "  (4): Conv3d(32, 32, kernel_size=(1, 3, 3), stride=(1, 1, 1), padding=(0, 1, 1))\n",
            "  (5): ReLU()\n",
            "  (6): Conv3d(32, 32, kernel_size=(3, 1, 1), stride=(1, 1, 1), padding=(1, 0, 0))\n",
            "  (7): ReLU()\n",
            "  (8): Upsample(scale_factor=4.0, mode='bicubic')\n",
            "  (9): Conv3d(32, 32, kernel_size=(1, 3, 3), stride=(1, 1, 1), padding=(0, 1, 1))\n",
            "  (10): ReLU()\n",
            "  (11): Conv3d(32, 32, kernel_size=(3, 1, 1), stride=(1, 1, 1), padding=(1, 0, 0))\n",
            "  (12): ReLU()\n",
            "  (13): Conv3d(32, 16, kernel_size=(1, 3, 3), stride=(1, 1, 1), padding=(0, 1, 1))\n",
            "  (14): ReLU()\n",
            "  (15): Conv3d(16, 3, kernel_size=(3, 1, 1), stride=(1, 1, 1), padding=(1, 0, 0))\n",
            ")\n"
          ]
        }
      ],
      "source": [
        "print(net)"
      ]
    },
    {
      "cell_type": "code",
      "execution_count": 21,
      "metadata": {},
      "outputs": [
        {
          "name": "stdout",
          "output_type": "stream",
          "text": [
            "torch.Size([3, 480, 360])\n"
          ]
        }
      ],
      "source": [
        "test_frame = test[0] # <class 'torch.Tensor'>\n",
        "test_frame = torch.einsum('ijk -> kij', test_frame) # torch.Size([3, 480, 360])\n",
        "print(test_frame.shape)"
      ]
    },
    {
      "cell_type": "code",
      "execution_count": 26,
      "metadata": {},
      "outputs": [
        {
          "name": "stdout",
          "output_type": "stream",
          "text": [
            "torch.Size([1, 12, 12])\n",
            "tensor([[[ 8.3380e-01,  1.2700e+00,  1.7549e-01, -2.4588e-01],\n",
            "         [ 1.5756e+00,  9.3345e-01,  4.7775e-01,  9.9757e-01],\n",
            "         [-1.8312e-01, -6.6178e-02,  4.1474e-01, -1.3449e+00],\n",
            "         [-1.1122e+00, -3.2281e-01,  5.3041e-01, -5.1192e-01]],\n",
            "\n",
            "        [[ 3.2130e-01, -1.0768e+00,  6.2895e-01,  1.8093e-01],\n",
            "         [ 8.3599e-02, -6.5008e-01,  5.9877e-01, -9.3046e-01],\n",
            "         [-7.0778e-01, -3.6393e-01, -1.6026e-03,  2.6617e-02],\n",
            "         [ 1.1753e-01,  1.8722e-01,  9.5401e-01,  2.6710e+00]],\n",
            "\n",
            "        [[ 1.4114e+00,  7.7821e-01, -9.7807e-01,  3.1295e-01],\n",
            "         [ 3.1307e-01,  1.5526e-01,  8.0901e-01, -1.1968e+00],\n",
            "         [ 5.8138e-01, -1.4382e+00,  5.8315e-01,  6.4055e-01],\n",
            "         [-9.4375e-02, -3.0579e-01,  1.5090e+00,  9.0511e-01]],\n",
            "\n",
            "        [[-1.6416e+00, -9.2762e-01, -6.4997e-01,  2.3729e-01],\n",
            "         [-1.1454e+00, -5.7225e-01,  7.8862e-01, -1.6651e+00],\n",
            "         [ 7.0899e-01,  6.1408e-01, -6.9340e-01,  1.3284e-01],\n",
            "         [ 1.9332e-01, -3.6181e-01, -6.8856e-02,  4.3642e-01]],\n",
            "\n",
            "        [[ 4.5691e-01, -1.8507e+00,  1.4685e+00, -1.8922e-01],\n",
            "         [ 5.6135e-01, -2.6715e-01, -8.7491e-03, -7.1182e-01],\n",
            "         [ 1.9894e+00,  4.9064e-01,  1.1472e+00, -7.8225e-01],\n",
            "         [-1.4601e+00,  1.0374e+00,  8.4341e-01,  1.5201e-01]],\n",
            "\n",
            "        [[ 2.7496e-01,  5.3301e-01,  8.1003e-01,  1.0888e+00],\n",
            "         [ 1.4816e+00, -1.5356e+00,  8.2060e-01,  1.0514e+00],\n",
            "         [-7.1315e-01, -8.4774e-02, -6.6404e-01, -9.8902e-01],\n",
            "         [ 1.8288e+00,  7.3790e-01,  7.8393e-01, -5.3215e-03]],\n",
            "\n",
            "        [[ 1.7932e+00,  8.8595e-01, -1.5287e+00,  1.3183e+00],\n",
            "         [-1.3885e+00, -1.0919e+00,  2.2661e-01, -1.2212e+00],\n",
            "         [ 8.4296e-03, -3.1119e-01, -7.0268e-02,  5.4358e-01],\n",
            "         [-1.0617e+00,  4.0714e-01,  1.0807e+00, -5.0321e-01]],\n",
            "\n",
            "        [[ 7.6248e-02, -4.7308e-01, -4.3412e-01, -7.1495e-01],\n",
            "         [-4.2486e-02,  4.0109e-01, -7.6279e-02,  4.0857e-01],\n",
            "         [ 6.6190e-01, -5.1833e-01,  5.6854e-01,  1.2930e+00],\n",
            "         [ 5.4540e-01,  6.4580e-02,  4.8849e-01,  1.8001e+00]],\n",
            "\n",
            "        [[-8.5814e-01,  7.6945e-01,  5.5100e-01,  4.2236e-01],\n",
            "         [ 8.5383e-01,  1.2115e+00, -2.0436e+00,  1.2925e+00],\n",
            "         [-4.3781e-01, -1.3372e+00, -7.3882e-01, -4.4560e-01],\n",
            "         [ 9.1313e-01, -1.0104e+00,  5.2772e-02, -8.8781e-01]]])\n",
            "tensor([[[ 8.3380e-01,  3.2130e-01,  1.4114e+00,  1.2700e+00, -1.0768e+00,\n",
            "           7.7821e-01,  1.7549e-01,  6.2895e-01, -9.7807e-01, -2.4588e-01,\n",
            "           1.8093e-01,  3.1295e-01],\n",
            "         [-1.6416e+00,  4.5691e-01,  2.7496e-01, -9.2762e-01, -1.8507e+00,\n",
            "           5.3301e-01, -6.4997e-01,  1.4685e+00,  8.1003e-01,  2.3729e-01,\n",
            "          -1.8922e-01,  1.0888e+00],\n",
            "         [ 1.7932e+00,  7.6248e-02, -8.5814e-01,  8.8595e-01, -4.7308e-01,\n",
            "           7.6945e-01, -1.5287e+00, -4.3412e-01,  5.5100e-01,  1.3183e+00,\n",
            "          -7.1495e-01,  4.2236e-01],\n",
            "         [ 1.5756e+00,  8.3599e-02,  3.1307e-01,  9.3345e-01, -6.5008e-01,\n",
            "           1.5526e-01,  4.7775e-01,  5.9877e-01,  8.0901e-01,  9.9757e-01,\n",
            "          -9.3046e-01, -1.1968e+00],\n",
            "         [-1.1454e+00,  5.6135e-01,  1.4816e+00, -5.7225e-01, -2.6715e-01,\n",
            "          -1.5356e+00,  7.8862e-01, -8.7491e-03,  8.2060e-01, -1.6651e+00,\n",
            "          -7.1182e-01,  1.0514e+00],\n",
            "         [-1.3885e+00, -4.2486e-02,  8.5383e-01, -1.0919e+00,  4.0109e-01,\n",
            "           1.2115e+00,  2.2661e-01, -7.6279e-02, -2.0436e+00, -1.2212e+00,\n",
            "           4.0857e-01,  1.2925e+00],\n",
            "         [-1.8312e-01, -7.0778e-01,  5.8138e-01, -6.6178e-02, -3.6393e-01,\n",
            "          -1.4382e+00,  4.1474e-01, -1.6026e-03,  5.8315e-01, -1.3449e+00,\n",
            "           2.6617e-02,  6.4055e-01],\n",
            "         [ 7.0899e-01,  1.9894e+00, -7.1315e-01,  6.1408e-01,  4.9064e-01,\n",
            "          -8.4774e-02, -6.9340e-01,  1.1472e+00, -6.6404e-01,  1.3284e-01,\n",
            "          -7.8225e-01, -9.8902e-01],\n",
            "         [ 8.4296e-03,  6.6190e-01, -4.3781e-01, -3.1119e-01, -5.1833e-01,\n",
            "          -1.3372e+00, -7.0268e-02,  5.6854e-01, -7.3882e-01,  5.4358e-01,\n",
            "           1.2930e+00, -4.4560e-01],\n",
            "         [-1.1122e+00,  1.1753e-01, -9.4375e-02, -3.2281e-01,  1.8722e-01,\n",
            "          -3.0579e-01,  5.3041e-01,  9.5401e-01,  1.5090e+00, -5.1192e-01,\n",
            "           2.6710e+00,  9.0511e-01],\n",
            "         [ 1.9332e-01, -1.4601e+00,  1.8288e+00, -3.6181e-01,  1.0374e+00,\n",
            "           7.3790e-01, -6.8856e-02,  8.4341e-01,  7.8393e-01,  4.3642e-01,\n",
            "           1.5201e-01, -5.3215e-03],\n",
            "         [-1.0617e+00,  5.4540e-01,  9.1313e-01,  4.0714e-01,  6.4580e-02,\n",
            "          -1.0104e+00,  1.0807e+00,  4.8849e-01,  5.2772e-02, -5.0321e-01,\n",
            "           1.8001e+00, -8.8781e-01]]])\n"
          ]
        }
      ],
      "source": [
        "pixel_shuffle = nn.PixelShuffle(3)\n",
        "input = torch.randn(9, 4, 4) # r^2 = 9, w = 4, h = 4\n",
        "output = pixel_shuffle(input)\n",
        "print(output.size())\n",
        "\n",
        "print(input)\n",
        "print(output)\n"
      ]
    },
    {
      "cell_type": "code",
      "execution_count": 56,
      "metadata": {},
      "outputs": [
        {
          "name": "stdout",
          "output_type": "stream",
          "text": [
            "[1, 2, 3]\n",
            "[[1 2 3]\n",
            " [1 2 3]\n",
            " [4 5 6]]\n",
            "[1, 2, 3]\n",
            "tensor([[0.8132, 0.1757],\n",
            "        [0.1278, 0.8218]])\n"
          ]
        }
      ],
      "source": [
        "a = [1,2,3]\n",
        "b = [*a]\n",
        "print(b)\n",
        "\n",
        "b = torch.tensor([[1,2,3]])\n",
        "c = torch.tensor([[1,2,3],\n",
        "                  [4,5,6]])\n",
        "\n",
        "print(np.concatenate((b, c), axis=0))\n",
        "\n",
        "print(list(i for i in a))\n",
        "\n",
        "print(torch.rand(2,2))"
      ]
    },
    {
      "cell_type": "code",
      "execution_count": 57,
      "metadata": {},
      "outputs": [
        {
          "name": "stdout",
          "output_type": "stream",
          "text": [
            "torch.Size([3, 1920, 1440])\n",
            "<class 'torch.Tensor'>\n",
            "torch.Size([3, 1920, 1440])\n",
            "<class 'torch.Tensor'>\n",
            "torch.Size([3, 1920, 1440])\n",
            "<class 'torch.Tensor'>\n",
            "torch.Size([3, 1920, 1440])\n",
            "<class 'torch.Tensor'>\n",
            "torch.Size([3, 1920, 1440])\n",
            "<class 'torch.Tensor'>\n",
            "torch.Size([3, 1920, 1440])\n",
            "<class 'torch.Tensor'>\n",
            "torch.Size([3, 1920, 1440])\n",
            "<class 'torch.Tensor'>\n",
            "torch.Size([3, 1920, 1440])\n",
            "<class 'torch.Tensor'>\n",
            "torch.Size([3, 1920, 1440])\n",
            "<class 'torch.Tensor'>\n",
            "torch.Size([3, 1920, 1440])\n",
            "<class 'torch.Tensor'>\n",
            "torch.Size([3, 1920, 1440])\n",
            "<class 'torch.Tensor'>\n",
            "torch.Size([3, 1920, 1440])\n",
            "<class 'torch.Tensor'>\n",
            "torch.Size([3, 1920, 1440])\n",
            "<class 'torch.Tensor'>\n",
            "torch.Size([3, 1920, 1440])\n",
            "<class 'torch.Tensor'>\n",
            "torch.Size([3, 1920, 1440])\n",
            "<class 'torch.Tensor'>\n",
            "torch.Size([3, 1920, 1440])\n",
            "<class 'torch.Tensor'>\n",
            "torch.Size([3, 1920, 1440])\n",
            "<class 'torch.Tensor'>\n",
            "torch.Size([3, 1920, 1440])\n",
            "<class 'torch.Tensor'>\n",
            "torch.Size([3, 1920, 1440])\n",
            "<class 'torch.Tensor'>\n",
            "torch.Size([3, 1920, 1440])\n",
            "<class 'torch.Tensor'>\n",
            "torch.Size([3, 1920, 1440])\n",
            "<class 'torch.Tensor'>\n",
            "torch.Size([3, 1920, 1440])\n",
            "<class 'torch.Tensor'>\n",
            "torch.Size([3, 1920, 1440])\n",
            "<class 'torch.Tensor'>\n",
            "torch.Size([3, 1920, 1440])\n",
            "<class 'torch.Tensor'>\n",
            "torch.Size([3, 1920, 1440])\n",
            "<class 'torch.Tensor'>\n",
            "torch.Size([3, 1920, 1440])\n",
            "<class 'torch.Tensor'>\n",
            "torch.Size([3, 1920, 1440])\n",
            "<class 'torch.Tensor'>\n",
            "torch.Size([3, 1920, 1440])\n",
            "<class 'torch.Tensor'>\n",
            "torch.Size([3, 1920, 1440])\n",
            "<class 'torch.Tensor'>\n",
            "torch.Size([3, 1920, 1440])\n",
            "<class 'torch.Tensor'>\n",
            "torch.Size([3, 1920, 1440])\n",
            "<class 'torch.Tensor'>\n",
            "torch.Size([3, 1920, 1440])\n",
            "<class 'torch.Tensor'>\n",
            "torch.Size([3, 1920, 1440])\n",
            "<class 'torch.Tensor'>\n",
            "torch.Size([3, 1920, 1440])\n",
            "<class 'torch.Tensor'>\n",
            "torch.Size([3, 1920, 1440])\n",
            "<class 'torch.Tensor'>\n",
            "torch.Size([3, 1920, 1440])\n",
            "<class 'torch.Tensor'>\n",
            "torch.Size([3, 1920, 1440])\n",
            "<class 'torch.Tensor'>\n",
            "torch.Size([3, 1920, 1440])\n",
            "<class 'torch.Tensor'>\n",
            "torch.Size([3, 1920, 1440])\n",
            "<class 'torch.Tensor'>\n",
            "torch.Size([3, 1920, 1440])\n",
            "<class 'torch.Tensor'>\n"
          ]
        }
      ],
      "source": [
        "# attempt at doing 2016 result thing on single frame\n",
        "# good walkthrough: https://medium.com/@zhuocen93/an-overview-of-espcn-an-efficient-sub-pixel-convolutional-neural-network-b76d0a6c875e\n",
        "\n",
        "# only for one frame; doesn't include batch size TODO\n",
        "# need to normalize frame before passing TODO\n",
        "\n",
        "# model uses one color channel at a time\n",
        "# 5x5 kernel, in: 1, out: 64\n",
        "# 3x3 kernel, in: 64, out: 32\n",
        "# 3x3 kernel, in: 32, out: r^2\n",
        "\n",
        "# let's say we upsample by r=4 for now? <- change later\n",
        "r = 4\n",
        "r_squared = 16\n",
        "\n",
        "# only for one color channel\n",
        "class Model2016(nn.Module):\n",
        "    def __init__(self):\n",
        "        super().__init__()\n",
        "        self.conv1 = nn.Conv2d(1, 64, kernel_size=(5,5), stride=1, padding=2)\n",
        "        self.act1 = nn.ReLU()\n",
        "        # self.drop1 = nn.Dropout(0.3) # randomly dropout some values <- can try later\n",
        " \n",
        "        self.conv2 = nn.Conv2d(64, 32, kernel_size=(3,3), stride=1, padding=1)\n",
        "        self.act2 = nn.ReLU()\n",
        "        # self.pool2 = nn.MaxPool2d(kernel_size=(2, 2))\n",
        "\n",
        "        # self.flat = nn.Flatten()\n",
        "        self.conv3 = nn.Conv2d(32, r_squared, kernel_size=(3,3), stride=1, padding=1)\n",
        "        self.act3 = nn.ReLU()\n",
        " \n",
        "    def forward(self, x):\n",
        "        # input 1x?x?, output 64x?x?\n",
        "        x = self.act1(self.conv1(x))\n",
        "        # input 64x?x?, output 32x?x?\n",
        "        x = self.act2(self.conv2(x))\n",
        "        # input 32x?x?, output r^2x?x?\n",
        "        x = self.act3(self.conv3(x))\n",
        "        return x\n",
        "\n",
        "### stuff to feed into trainer\n",
        "model = Model2016()\n",
        "loss_fn = nn.MSELoss()\n",
        "optimizer = optim.SGD(model.parameters(), lr=0.001, momentum=0.9)\n",
        "pixel_shuffle = nn.PixelShuffle(r)\n",
        "### \n",
        "\n",
        "HR_shape = (3, test_frame.shape[1]*r, test_frame.shape[2]*r) # High-Res shape\n",
        "ground_truth_frames = [torch.rand(*HR_shape)] # TODO replace with real ground truth\n",
        "train_frames = [test_frame] # TODO replace with actual frames\n",
        "\n",
        "n_epochs = 20\n",
        "for epoch in range(n_epochs):\n",
        "    for i, (frame, truth) in enumerate(zip(train_frames, ground_truth_frames)):\n",
        "\n",
        "        for channel_frame in frame:\n",
        "            channel_frame = channel_frame[np.newaxis, :, :]\n",
        "            temp = model(channel_frame)\n",
        "            deconv = pixel_shuffle(temp)\n",
        "        \n",
        "        deconvolved = torch.cat(list(pixel_shuffle(model(channel_frame[np.newaxis, :, :]))\n",
        "                                    for channel_frame in frame), axis=0) # deconvolved 3 x r*? x r*?\n",
        "        \n",
        "        loss = loss_fn(deconvolved, truth)\n",
        "        optimizer.zero_grad()\n",
        "        loss.backward()\n",
        "        optimizer.step()\n",
        "\n",
        "    # print(\"Epoch %d: model accuracy %.2f%%\" % (epoch, acc*100))\n"
      ]
    },
    {
      "cell_type": "code",
      "execution_count": 31,
      "metadata": {},
      "outputs": [
        {
          "name": "stdout",
          "output_type": "stream",
          "text": [
            "(1, 1920, 1440)\n"
          ]
        }
      ],
      "source": [
        "\n"
      ]
    }
  ],
  "metadata": {
    "colab": {
      "provenance": []
    },
    "kernelspec": {
      "display_name": "Python 3",
      "name": "python3"
    },
    "language_info": {
      "codemirror_mode": {
        "name": "ipython",
        "version": 3
      },
      "file_extension": ".py",
      "mimetype": "text/x-python",
      "name": "python",
      "nbconvert_exporter": "python",
      "pygments_lexer": "ipython3",
      "version": "3.10.7"
    }
  },
  "nbformat": 4,
  "nbformat_minor": 0
}
