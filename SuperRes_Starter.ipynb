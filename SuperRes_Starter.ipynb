{
  "cells": [
    {
      "cell_type": "code",
      "execution_count": 12,
      "metadata": {
        "id": "raN8W9BU7TBF"
      },
      "outputs": [],
      "source": [
        "import torch\n",
        "import matplotlib.pyplot as plt\n",
        "import numpy as np\n",
        "import cv2\n",
        "import scipy.ndimage as ndimage"
      ]
    },
    {
      "cell_type": "code",
      "execution_count": 7,
      "metadata": {
        "colab": {
          "base_uri": "https://localhost:8080/"
        },
        "id": "ms3uvGKARU_p",
        "outputId": "f581b1f5-2eba-4698-98f6-452b29a25dd8"
      },
      "outputs": [
        {
          "name": "stdout",
          "output_type": "stream",
          "text": [
            "Processed 101 frames\n"
          ]
        }
      ],
      "source": [
        "capture = cv2.VideoCapture('video.mov')\n",
        "\n",
        "n = 0\n",
        "frames = []\n",
        "while True:\n",
        "  successful, next_frame = capture.read()\n",
        "  if not successful:\n",
        "    # No more frames to read\n",
        "    print(\"Processed %d frames\" % n)\n",
        "    break\n",
        "  frames.append(next_frame)\n",
        "  n += 1\n",
        "  # Now we have an image! We can process that as we would.\n",
        "\n",
        "# We have to give up the file at the end.\n",
        "capture.release()"
      ]
    },
    {
      "cell_type": "code",
      "execution_count": 9,
      "metadata": {
        "colab": {
          "base_uri": "https://localhost:8080/"
        },
        "id": "D2SsAvriXoyS",
        "outputId": "a7dd99ad-08d4-4a79-e868-11282e8cdee7"
      },
      "outputs": [
        {
          "data": {
            "text/plain": [
              "(1920, 1440, 3)"
            ]
          },
          "execution_count": 9,
          "metadata": {},
          "output_type": "execute_result"
        }
      ],
      "source": [
        "height, width, channels = frames[0].shape\n",
        "height, width, channels"
      ]
    },
    {
      "cell_type": "code",
      "execution_count": 10,
      "metadata": {
        "id": "cHzO9g-88GAH"
      },
      "outputs": [
        {
          "name": "stderr",
          "output_type": "stream",
          "text": [
            "OpenCV: FFMPEG: tag 0x5634504d/'MP4V' is not supported with codec id 12 and format 'mp4 / MP4 (MPEG-4 Part 14)'\n",
            "OpenCV: FFMPEG: fallback to use tag 0x7634706d/'mp4v'\n"
          ]
        }
      ],
      "source": [
        "def downsize_frame(frame, factor = 2, sigma = 9):\n",
        "  frame_blurred = cv2.GaussianBlur(frame, (sigma, sigma), 0)\n",
        "  return frame_blurred[::factor, ::factor]\n",
        "\n",
        "factor = 4\n",
        "downsized_size = (width // factor, height // factor) # w,h\n",
        "output_path = 'output_downsized.mp4'\n",
        "output_format = cv2.VideoWriter_fourcc('M','P','4','V')\n",
        "output_fps = 30\n",
        "downsized_output = cv2.VideoWriter(output_path, output_format, output_fps, downsized_size)\n",
        "\n",
        "for frame in frames:\n",
        "  output_frame = downsize_frame(frame, factor=factor)\n",
        "  downsized_output.write(output_frame)\n",
        "\n",
        "downsized_output.release()"
      ]
    },
    {
      "cell_type": "code",
      "execution_count": 13,
      "metadata": {},
      "outputs": [
        {
          "name": "stdout",
          "output_type": "stream",
          "text": [
            "/Users/masonfang/Documents/6.8301/project\n"
          ]
        }
      ],
      "source": [
        "import os\n",
        "print(os.getcwd())"
      ]
    },
    {
      "cell_type": "code",
      "execution_count": 11,
      "metadata": {
        "id": "E7-6UOK6DCPm"
      },
      "outputs": [
        {
          "name": "stdout",
          "output_type": "stream",
          "text": [
            "Using cpu device\n"
          ]
        }
      ],
      "source": [
        "# first model\n",
        "# a bunch of 3x3 convolutions\n",
        "\n",
        "device = (\n",
        "    \"cuda\"\n",
        "    if torch.cuda.is_available()\n",
        "    else \"cpu\"\n",
        ")\n",
        "print(f\"Using {device} device\")\n",
        "\n",
        "\n"
      ]
    }
  ],
  "metadata": {
    "colab": {
      "provenance": []
    },
    "kernelspec": {
      "display_name": "Python 3",
      "name": "python3"
    },
    "language_info": {
      "codemirror_mode": {
        "name": "ipython",
        "version": 3
      },
      "file_extension": ".py",
      "mimetype": "text/x-python",
      "name": "python",
      "nbconvert_exporter": "python",
      "pygments_lexer": "ipython3",
      "version": "3.10.7"
    }
  },
  "nbformat": 4,
  "nbformat_minor": 0
}
