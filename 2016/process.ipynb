{
 "cells": [
  {
   "cell_type": "code",
   "execution_count": 16,
   "metadata": {},
   "outputs": [],
   "source": [
    "import os\n",
    "import os.path as osp\n",
    "import cv2\n",
    "import itertools as it\n",
    "import numpy as np\n",
    "import random\n",
    "from torchvision import transforms, io\n",
    "import torch.nn as nn\n",
    "import torch\n",
    "import matplotlib.pyplot as plt"
   ]
  },
  {
   "cell_type": "code",
   "execution_count": 2,
   "metadata": {},
   "outputs": [],
   "source": [
    "def apply_blur(images, kernel_size, sigma):\n",
    "    blur_fn = transforms.GaussianBlur(kernel_size, sigma = (sigma, sigma))\n",
    "    return list(map(blur_fn, images))"
   ]
  },
  {
   "cell_type": "code",
   "execution_count": 119,
   "metadata": {},
   "outputs": [],
   "source": [
    "# assumes gaussian blur has been applied to images already\n",
    "def get_sub_images(images, f_sub, upscale_factor):\n",
    "    \"\"\"\n",
    "        images: list of tensors of dimension (3, h, w) \n",
    "        f_sub: expected dimension of square sub-images\n",
    "        upscale_factor: amount to downsize the HR image/ upscale the \n",
    "            sub-sampled images by\n",
    "\n",
    "        requires: upscale_factor must evenly divide f_sub\n",
    "\n",
    "        Returns list of sub-images, list of (3, f_sub, f_sub) tensors,\n",
    "        formed from patches of images in 'images'. \n",
    "        Sub-images are f_sub x f_sub.\n",
    "        To form sub-images, patches of an image are sub-sampled by the upscaling factor\n",
    "        and then interpolated by the same factor. \n",
    "\n",
    "    \"\"\"\n",
    "    assert f_sub%upscale_factor == 0, \"upscale_factor should divide final sub-image length, f_sub\"\n",
    "\n",
    "    patches = []\n",
    "\n",
    "    for image in images:\n",
    "        # image = blurred_images[5]\n",
    "        depth, height, width = image.shape\n",
    "        for i in range(0, height//f_sub):\n",
    "            for j in range(0, width//f_sub):\n",
    "                temp = image[:, i*f_sub:(i+1)*f_sub, j*f_sub:(j+1)*f_sub]\n",
    "                # temp = temp.to(torch.int) # I guess this has to happen for color to show?\n",
    "                patches.append(temp)\n",
    "    \n",
    "    sub_sampled = [] # just for testing\n",
    "    sub_images = []\n",
    "    for patch in patches:\n",
    "        downsampled = patch[:, ::upscale_factor, ::upscale_factor]\n",
    "        sub_sampled.append(downsampled)\n",
    "\n",
    "        # print(downsampled.shape)\n",
    "        # add dimension for batch size, since interpolate seems wants n,c specified\n",
    "        downsampled = torch.unsqueeze(downsampled, 0)\n",
    "        upsampled = nn.functional.interpolate(downsampled, \n",
    "                                              scale_factor=(upscale_factor, upscale_factor), \n",
    "                                              mode='bicubic', align_corners=True)\n",
    "        del_batch_dim = upsampled[0, :, :, :]\n",
    "        sub_images.append(del_batch_dim)\n",
    "        \n",
    "    \n",
    "    return patches, sub_images, sub_sampled"
   ]
  },
  {
   "cell_type": "code",
   "execution_count": 141,
   "metadata": {},
   "outputs": [
    {
     "name": "stdout",
     "output_type": "stream",
     "text": [
      "/Users/sarahwang/Documents/cv-project/2016\n",
      "['img_010_SRF_3_HR.png', 'img_002_SRF_3_HR.png', 'img_005_SRF_3_HR.png', 'img_004_SRF_3_HR.png', 'img_003_SRF_3_HR.png', 'img_011_SRF_3_HR.png', 'img_009_SRF_3_HR.png', 'img_008_SRF_3_HR.png', 'img_001_SRF_3_HR.png', 'img_006_SRF_3_HR.png', 'img_013_SRF_3_HR.png', 'img_014_SRF_3_HR.png', 'img_012_SRF_3_HR.png', 'img_007_SRF_3_HR.png']\n"
     ]
    },
    {
     "data": {
      "image/png": "[encoded data removed]",
      "text/plain": [
       "<Figure size 640x480 with 3 Axes>"
      ]
     },
     "metadata": {},
     "output_type": "display_data"
    }
   ],
   "source": [
    "def process_imgs(source, destination, f_sub, upscale_factor):\n",
    "    \"\"\"\n",
    "        Returns the sub-images to be used for training and \n",
    "    \"\"\"\n",
    "    \n",
    "    # obtains array of images (tensor)\n",
    "    img_names = os.listdir(source)\n",
    "    images = [io.read_image(osp.join(source, name)) \n",
    "              for name in img_names]\n",
    "    \n",
    "    print(img_names)\n",
    "\n",
    "    # gaussian blur\n",
    "    blurred_images = apply_blur(images, 9, 2)\n",
    "\n",
    "    # obtain sub-images\n",
    "    patches, sub_images, sub_sampled = get_sub_images(blurred_images, 33, 3)\n",
    "\n",
    "    patches_imshow = [patch.to(torch.int) for patch in patches] # this makes it show up for imshow\n",
    "\n",
    "    # plt.plot()\n",
    "    # plt.imshow(torch.einsum('ijk->jki', patches_imshow[200])) \n",
    "\n",
    "\n",
    "    # imgs = [torch.einsum('ijk->jki', img) for img in patches[5]]\n",
    "    # print(len(imgs))\n",
    "    n = 1200\n",
    "    imgs = [patches[n], sub_images[n], sub_sampled[n]]\n",
    "    for i, img in enumerate(imgs):\n",
    "        img = img.to(torch.int)\n",
    "        plt.subplot(1, len(imgs)*3, i+1)\n",
    "        plt.imshow(torch.einsum('ijk->jki', img)) \n",
    "    \n",
    "\n",
    "    # put sub-images in destination\n",
    "\n",
    "# main\n",
    "\n",
    "root = os.getcwd()\n",
    "print(root)\n",
    "\n",
    "source = \"data/set14\"\n",
    "destination = \"data/train_sub_images\"\n",
    "f_sub = 33\n",
    "upscale_factor = 3\n",
    "\n",
    "source = osp.join(root, source)\n",
    "destination = osp.join(root, destination)\n",
    "process_imgs(source, destination, f_sub, upscale_factor)\n"
   ]
  },
  {
   "cell_type": "code",
   "execution_count": 104,
   "metadata": {},
   "outputs": [
    {
     "name": "stdout",
     "output_type": "stream",
     "text": [
      "/Users/sarahwang/Documents/cv-project/2016\n",
      "['img_010_SRF_3_HR.png', 'img_002_SRF_3_HR.png', 'img_005_SRF_3_HR.png', 'img_004_SRF_3_HR.png', 'img_003_SRF_3_HR.png', 'img_011_SRF_3_HR.png', 'img_009_SRF_3_HR.png', 'img_008_SRF_3_HR.png', 'img_001_SRF_3_HR.png', 'img_006_SRF_3_HR.png', 'img_013_SRF_3_HR.png', 'img_014_SRF_3_HR.png', 'img_012_SRF_3_HR.png', 'img_007_SRF_3_HR.png']\n",
      "3\n"
     ]
    },
    {
     "data": {
      "image/png": "[encoded data removed]",
      "text/plain": [
       "<Figure size 640x480 with 1 Axes>"
      ]
     },
     "metadata": {},
     "output_type": "display_data"
    }
   ],
   "source": [
    "# main\n",
    "\n",
    "root = os.getcwd()\n",
    "print(root)\n",
    "\n",
    "source = \"data/set14\"\n",
    "destination = \"data/train_sub_images\"\n",
    "f_sub = 33\n",
    "upscale_factor = 3\n",
    "\n",
    "source = osp.join(root, source)\n",
    "destination = osp.join(root, destination)\n",
    "process_imgs(source, destination, f_sub, upscale_factor)"
   ]
  },
  {
   "cell_type": "code",
   "execution_count": 64,
   "metadata": {},
   "outputs": [
    {
     "name": "stdout",
     "output_type": "stream",
     "text": [
      "(3, 3, 3)\n",
      "[[0 0 0]\n",
      " [0 0 0]\n",
      " [0 1 4]]\n",
      "uint8\n",
      "<class 'numpy.ndarray'>\n",
      "(3, 3, 3)\n",
      "[[0 1 2]\n",
      " [3 4 5]\n",
      " [6 7 8]]\n",
      "uint8\n",
      "<class 'numpy.ndarray'>\n"
     ]
    },
    {
     "data": {
      "text/plain": [
       "[]"
      ]
     },
     "execution_count": 64,
     "metadata": {},
     "output_type": "execute_result"
    },
    {
     "data": {
      "image/png": "[encoded data removed]",
      "text/plain": [
       "<Figure size 640x480 with 1 Axes>"
      ]
     },
     "metadata": {},
     "output_type": "display_data"
    }
   ],
   "source": [
    "# testing image capabilities\n",
    "\n",
    "image = cv2.imread(\"/Users/sarahwang/Documents/cv-project/2016/data/set14/img_004_SRF_3_HR.png\")\n",
    "\n",
    "image = image[:3, :3, :]\n",
    "print(image.shape)\n",
    "print(image[0])\n",
    "print(image.dtype)\n",
    "print(type(image))\n",
    "b = np.arange(0, 27).reshape((3,3,3)).astype(np.uint8)\n",
    "\n",
    "c = np.array([\n",
    "[[0, 0, 0],\n",
    " [0, 0, 0],\n",
    " [0, 1, 4]],\n",
    "[[74, 91, 93],\n",
    " [70, 88, 89],\n",
    " [68, 81, 84]]\n",
    "    ,\n",
    "[[149, 172, 173],\n",
    " [152, 174, 175],\n",
    " [150, 173, 174]]\n",
    "])\n",
    "print(b.shape)\n",
    "print(b[0])\n",
    "print(b.dtype)\n",
    "print(type(b))\n",
    "plt.subplot(1, 1, 1)\n",
    "plt.imshow(c)\n",
    "plt.plot()"
   ]
  }
 ],
 "metadata": {
  "kernelspec": {
   "display_name": "Python 3",
   "language": "python",
   "name": "python3"
  },
  "language_info": {
   "codemirror_mode": {
    "name": "ipython",
    "version": 3
   },
   "file_extension": ".py",
   "mimetype": "text/x-python",
   "name": "python",
   "nbconvert_exporter": "python",
   "pygments_lexer": "ipython3",
   "version": "3.11.1"
  }
 },
 "nbformat": 4,
 "nbformat_minor": 2
}
